{
  "nbformat": 4,
  "nbformat_minor": 0,
  "metadata": {
    "colab": {
      "provenance": [],
      "toc_visible": true,
      "authorship_tag": "ABX9TyPMCVy5VpPrMa4BCcobqVPy",
      "include_colab_link": true
    },
    "kernelspec": {
      "name": "python3",
      "display_name": "Python 3"
    },
    "language_info": {
      "name": "python"
    }
  },
  "cells": [
    {
      "cell_type": "markdown",
      "metadata": {
        "id": "view-in-github",
        "colab_type": "text"
      },
      "source": [
        "<a href=\"https://colab.research.google.com/github/geun-hyoung/StockPredictionByTextMining/blob/main/stock_data_analysis.ipynb\" target=\"_parent\"><img src=\"https://colab.research.google.com/assets/colab-badge.svg\" alt=\"Open In Colab\"/></a>"
      ]
    },
    {
      "cell_type": "markdown",
      "source": [
        "## Setting"
      ],
      "metadata": {
        "id": "EmTU6SYN8EWq"
      }
    },
    {
      "cell_type": "code",
      "execution_count": null,
      "metadata": {
        "id": "kILkyRl26eo_"
      },
      "outputs": [],
      "source": [
        "# Library Install\n",
        "\n",
        "!pip install yfinance\n",
        "!pip install -U pandas-profiling"
      ]
    },
    {
      "cell_type": "code",
      "source": [
        "# Library Import\n",
        "\n",
        "%matplotlib inline\n",
        "\n",
        "import pandas as pd\n",
        "import numpy as np\n",
        "import matplotlib.pyplot as plt\n",
        "import yfinance as yf\n",
        "import ydata_profiling\n",
        "\n",
        "from datetime import datetime, timedelta"
      ],
      "metadata": {
        "id": "LsUASpi56_-z"
      },
      "execution_count": null,
      "outputs": []
    },
    {
      "cell_type": "markdown",
      "source": [
        "## EDA"
      ],
      "metadata": {
        "id": "yDR8r_eg8IAA"
      }
    },
    {
      "cell_type": "code",
      "source": [
        "# Data load - 테슬라 3년치 20년~22년 주가 데이터\n",
        "tsla_df = yf.download('TSLA', start='2020-01-01', end='2022-12-31')\n",
        "tsla_df.info()\n",
        "\n",
        "print(f'Missing Values:\\n{tsla_df.isnull().sum()}')"
      ],
      "metadata": {
        "id": "B3Rf4EPn8PGt"
      },
      "execution_count": null,
      "outputs": []
    },
    {
      "cell_type": "code",
      "source": [
        "tsla_df.describe()"
      ],
      "metadata": {
        "id": "W7mR1fAe6zKF"
      },
      "execution_count": null,
      "outputs": []
    },
    {
      "cell_type": "code",
      "source": [],
      "metadata": {
        "id": "2IHnh3MoQDZ1"
      },
      "execution_count": null,
      "outputs": []
    }
  ]
}