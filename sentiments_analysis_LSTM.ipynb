{
  "nbformat": 4,
  "nbformat_minor": 0,
  "metadata": {
    "colab": {
      "provenance": [],
      "authorship_tag": "ABX9TyO0E3t3Vit+9lvkAbYxAd7Z",
      "include_colab_link": true
    },
    "kernelspec": {
      "name": "python3",
      "display_name": "Python 3"
    },
    "language_info": {
      "name": "python"
    }
  },
  "cells": [
    {
      "cell_type": "markdown",
      "metadata": {
        "id": "view-in-github",
        "colab_type": "text"
      },
      "source": [
        "<a href=\"https://colab.research.google.com/github/geun-hyoung/StockPredictionByTextMining/blob/main/sentiments_analysis_LSTM.ipynb\" target=\"_parent\"><img src=\"https://colab.research.google.com/assets/colab-badge.svg\" alt=\"Open In Colab\"/></a>"
      ]
    },
    {
      "cell_type": "code",
      "execution_count": 1,
      "metadata": {
        "id": "MbKIIzGUPL8N"
      },
      "outputs": [],
      "source": [
        "import pandas as pd\n",
        "import numpy as np\n",
        "import matplotlib.pyplot as plt\n",
        "from sklearn.model_selection import train_test_split\n",
        "import re\n",
        "import urllib.request\n",
        "from tqdm import tqdm\n",
        "from tensorflow.keras.preprocessing.text import Tokenizer\n",
        "from tensorflow.keras.preprocessing.sequence import pad_sequences"
      ]
    },
    {
      "cell_type": "code",
      "source": [
        "data = pd.read_excel('sentiments.xlsx')\n",
        "print('총 샘플의 수 :',len(data))\n",
        "data"
      ],
      "metadata": {
        "colab": {
          "base_uri": "https://localhost:8080/",
          "height": 442
        },
        "id": "QLKjzj4jPrd6",
        "outputId": "809e0fbf-d027-41e9-8b71-2820f6cdc16b"
      },
      "execution_count": 3,
      "outputs": [
        {
          "output_type": "stream",
          "name": "stdout",
          "text": [
            "총 샘플의 수 : 13002\n"
          ]
        },
        {
          "output_type": "execute_result",
          "data": {
            "text/plain": [
              "       Senti                                          Sentences\n",
              "0          1  Y, FEBRUARY 9, 2021 â—� WINNIPEGFREEPRESS.COMB...\n",
              "1          0  oit three crashes involving Tesla that killed ...\n",
              "2          0  rk shadow on Tesla,â€� Wedbush Securities anal...\n",
              "3          0  killing a passenger in the Tesla. And on dec. ...\n",
              "4          0  merican nations in them that could be interest...\n",
              "...      ...                                                ...\n",
              "12997      0  amp a .28 .04 Kraft Hnz 5.4 29.37 .22 2.6 144....\n",
              "12998      0  .20 key corp 19.29 -54 -.30 pars Leyen 16.93 ....\n",
              "12999      0  t 125.26 1.39 technic 20.97 -.37 Tec Kres g 16...\n",
              "13000      1  64 Tregna .28 top Drin 4.00e to Gib .30 Tenn e...\n",
              "13001      1  raders shifted Money away from the Safe play s...\n",
              "\n",
              "[13002 rows x 2 columns]"
            ],
            "text/html": [
              "\n",
              "  <div id=\"df-c2025fcf-0ae8-4efc-89f8-cf4b66128391\" class=\"colab-df-container\">\n",
              "    <div>\n",
              "<style scoped>\n",
              "    .dataframe tbody tr th:only-of-type {\n",
              "        vertical-align: middle;\n",
              "    }\n",
              "\n",
              "    .dataframe tbody tr th {\n",
              "        vertical-align: top;\n",
              "    }\n",
              "\n",
              "    .dataframe thead th {\n",
              "        text-align: right;\n",
              "    }\n",
              "</style>\n",
              "<table border=\"1\" class=\"dataframe\">\n",
              "  <thead>\n",
              "    <tr style=\"text-align: right;\">\n",
              "      <th></th>\n",
              "      <th>Senti</th>\n",
              "      <th>Sentences</th>\n",
              "    </tr>\n",
              "  </thead>\n",
              "  <tbody>\n",
              "    <tr>\n",
              "      <th>0</th>\n",
              "      <td>1</td>\n",
              "      <td>Y, FEBRUARY 9, 2021 â—� WINNIPEGFREEPRESS.COMB...</td>\n",
              "    </tr>\n",
              "    <tr>\n",
              "      <th>1</th>\n",
              "      <td>0</td>\n",
              "      <td>oit three crashes involving Tesla that killed ...</td>\n",
              "    </tr>\n",
              "    <tr>\n",
              "      <th>2</th>\n",
              "      <td>0</td>\n",
              "      <td>rk shadow on Tesla,â€� Wedbush Securities anal...</td>\n",
              "    </tr>\n",
              "    <tr>\n",
              "      <th>3</th>\n",
              "      <td>0</td>\n",
              "      <td>killing a passenger in the Tesla. And on dec. ...</td>\n",
              "    </tr>\n",
              "    <tr>\n",
              "      <th>4</th>\n",
              "      <td>0</td>\n",
              "      <td>merican nations in them that could be interest...</td>\n",
              "    </tr>\n",
              "    <tr>\n",
              "      <th>...</th>\n",
              "      <td>...</td>\n",
              "      <td>...</td>\n",
              "    </tr>\n",
              "    <tr>\n",
              "      <th>12997</th>\n",
              "      <td>0</td>\n",
              "      <td>amp a .28 .04 Kraft Hnz 5.4 29.37 .22 2.6 144....</td>\n",
              "    </tr>\n",
              "    <tr>\n",
              "      <th>12998</th>\n",
              "      <td>0</td>\n",
              "      <td>.20 key corp 19.29 -54 -.30 pars Leyen 16.93 ....</td>\n",
              "    </tr>\n",
              "    <tr>\n",
              "      <th>12999</th>\n",
              "      <td>0</td>\n",
              "      <td>t 125.26 1.39 technic 20.97 -.37 Tec Kres g 16...</td>\n",
              "    </tr>\n",
              "    <tr>\n",
              "      <th>13000</th>\n",
              "      <td>1</td>\n",
              "      <td>64 Tregna .28 top Drin 4.00e to Gib .30 Tenn e...</td>\n",
              "    </tr>\n",
              "    <tr>\n",
              "      <th>13001</th>\n",
              "      <td>1</td>\n",
              "      <td>raders shifted Money away from the Safe play s...</td>\n",
              "    </tr>\n",
              "  </tbody>\n",
              "</table>\n",
              "<p>13002 rows × 2 columns</p>\n",
              "</div>\n",
              "    <div class=\"colab-df-buttons\">\n",
              "\n",
              "  <div class=\"colab-df-container\">\n",
              "    <button class=\"colab-df-convert\" onclick=\"convertToInteractive('df-c2025fcf-0ae8-4efc-89f8-cf4b66128391')\"\n",
              "            title=\"Convert this dataframe to an interactive table.\"\n",
              "            style=\"display:none;\">\n",
              "\n",
              "  <svg xmlns=\"http://www.w3.org/2000/svg\" height=\"24px\" viewBox=\"0 -960 960 960\">\n",
              "    <path d=\"M120-120v-720h720v720H120Zm60-500h600v-160H180v160Zm220 220h160v-160H400v160Zm0 220h160v-160H400v160ZM180-400h160v-160H180v160Zm440 0h160v-160H620v160ZM180-180h160v-160H180v160Zm440 0h160v-160H620v160Z\"/>\n",
              "  </svg>\n",
              "    </button>\n",
              "\n",
              "  <style>\n",
              "    .colab-df-container {\n",
              "      display:flex;\n",
              "      gap: 12px;\n",
              "    }\n",
              "\n",
              "    .colab-df-convert {\n",
              "      background-color: #E8F0FE;\n",
              "      border: none;\n",
              "      border-radius: 50%;\n",
              "      cursor: pointer;\n",
              "      display: none;\n",
              "      fill: #1967D2;\n",
              "      height: 32px;\n",
              "      padding: 0 0 0 0;\n",
              "      width: 32px;\n",
              "    }\n",
              "\n",
              "    .colab-df-convert:hover {\n",
              "      background-color: #E2EBFA;\n",
              "      box-shadow: 0px 1px 2px rgba(60, 64, 67, 0.3), 0px 1px 3px 1px rgba(60, 64, 67, 0.15);\n",
              "      fill: #174EA6;\n",
              "    }\n",
              "\n",
              "    .colab-df-buttons div {\n",
              "      margin-bottom: 4px;\n",
              "    }\n",
              "\n",
              "    [theme=dark] .colab-df-convert {\n",
              "      background-color: #3B4455;\n",
              "      fill: #D2E3FC;\n",
              "    }\n",
              "\n",
              "    [theme=dark] .colab-df-convert:hover {\n",
              "      background-color: #434B5C;\n",
              "      box-shadow: 0px 1px 3px 1px rgba(0, 0, 0, 0.15);\n",
              "      filter: drop-shadow(0px 1px 2px rgba(0, 0, 0, 0.3));\n",
              "      fill: #FFFFFF;\n",
              "    }\n",
              "  </style>\n",
              "\n",
              "    <script>\n",
              "      const buttonEl =\n",
              "        document.querySelector('#df-c2025fcf-0ae8-4efc-89f8-cf4b66128391 button.colab-df-convert');\n",
              "      buttonEl.style.display =\n",
              "        google.colab.kernel.accessAllowed ? 'block' : 'none';\n",
              "\n",
              "      async function convertToInteractive(key) {\n",
              "        const element = document.querySelector('#df-c2025fcf-0ae8-4efc-89f8-cf4b66128391');\n",
              "        const dataTable =\n",
              "          await google.colab.kernel.invokeFunction('convertToInteractive',\n",
              "                                                    [key], {});\n",
              "        if (!dataTable) return;\n",
              "\n",
              "        const docLinkHtml = 'Like what you see? Visit the ' +\n",
              "          '<a target=\"_blank\" href=https://colab.research.google.com/notebooks/data_table.ipynb>data table notebook</a>'\n",
              "          + ' to learn more about interactive tables.';\n",
              "        element.innerHTML = '';\n",
              "        dataTable['output_type'] = 'display_data';\n",
              "        await google.colab.output.renderOutput(dataTable, element);\n",
              "        const docLink = document.createElement('div');\n",
              "        docLink.innerHTML = docLinkHtml;\n",
              "        element.appendChild(docLink);\n",
              "      }\n",
              "    </script>\n",
              "  </div>\n",
              "\n",
              "\n",
              "<div id=\"df-66b51b85-9e9a-4340-bfbe-a4e21197b83e\">\n",
              "  <button class=\"colab-df-quickchart\" onclick=\"quickchart('df-66b51b85-9e9a-4340-bfbe-a4e21197b83e')\"\n",
              "            title=\"Suggest charts\"\n",
              "            style=\"display:none;\">\n",
              "\n",
              "<svg xmlns=\"http://www.w3.org/2000/svg\" height=\"24px\"viewBox=\"0 0 24 24\"\n",
              "     width=\"24px\">\n",
              "    <g>\n",
              "        <path d=\"M19 3H5c-1.1 0-2 .9-2 2v14c0 1.1.9 2 2 2h14c1.1 0 2-.9 2-2V5c0-1.1-.9-2-2-2zM9 17H7v-7h2v7zm4 0h-2V7h2v10zm4 0h-2v-4h2v4z\"/>\n",
              "    </g>\n",
              "</svg>\n",
              "  </button>\n",
              "\n",
              "<style>\n",
              "  .colab-df-quickchart {\n",
              "      --bg-color: #E8F0FE;\n",
              "      --fill-color: #1967D2;\n",
              "      --hover-bg-color: #E2EBFA;\n",
              "      --hover-fill-color: #174EA6;\n",
              "      --disabled-fill-color: #AAA;\n",
              "      --disabled-bg-color: #DDD;\n",
              "  }\n",
              "\n",
              "  [theme=dark] .colab-df-quickchart {\n",
              "      --bg-color: #3B4455;\n",
              "      --fill-color: #D2E3FC;\n",
              "      --hover-bg-color: #434B5C;\n",
              "      --hover-fill-color: #FFFFFF;\n",
              "      --disabled-bg-color: #3B4455;\n",
              "      --disabled-fill-color: #666;\n",
              "  }\n",
              "\n",
              "  .colab-df-quickchart {\n",
              "    background-color: var(--bg-color);\n",
              "    border: none;\n",
              "    border-radius: 50%;\n",
              "    cursor: pointer;\n",
              "    display: none;\n",
              "    fill: var(--fill-color);\n",
              "    height: 32px;\n",
              "    padding: 0;\n",
              "    width: 32px;\n",
              "  }\n",
              "\n",
              "  .colab-df-quickchart:hover {\n",
              "    background-color: var(--hover-bg-color);\n",
              "    box-shadow: 0 1px 2px rgba(60, 64, 67, 0.3), 0 1px 3px 1px rgba(60, 64, 67, 0.15);\n",
              "    fill: var(--button-hover-fill-color);\n",
              "  }\n",
              "\n",
              "  .colab-df-quickchart-complete:disabled,\n",
              "  .colab-df-quickchart-complete:disabled:hover {\n",
              "    background-color: var(--disabled-bg-color);\n",
              "    fill: var(--disabled-fill-color);\n",
              "    box-shadow: none;\n",
              "  }\n",
              "\n",
              "  .colab-df-spinner {\n",
              "    border: 2px solid var(--fill-color);\n",
              "    border-color: transparent;\n",
              "    border-bottom-color: var(--fill-color);\n",
              "    animation:\n",
              "      spin 1s steps(1) infinite;\n",
              "  }\n",
              "\n",
              "  @keyframes spin {\n",
              "    0% {\n",
              "      border-color: transparent;\n",
              "      border-bottom-color: var(--fill-color);\n",
              "      border-left-color: var(--fill-color);\n",
              "    }\n",
              "    20% {\n",
              "      border-color: transparent;\n",
              "      border-left-color: var(--fill-color);\n",
              "      border-top-color: var(--fill-color);\n",
              "    }\n",
              "    30% {\n",
              "      border-color: transparent;\n",
              "      border-left-color: var(--fill-color);\n",
              "      border-top-color: var(--fill-color);\n",
              "      border-right-color: var(--fill-color);\n",
              "    }\n",
              "    40% {\n",
              "      border-color: transparent;\n",
              "      border-right-color: var(--fill-color);\n",
              "      border-top-color: var(--fill-color);\n",
              "    }\n",
              "    60% {\n",
              "      border-color: transparent;\n",
              "      border-right-color: var(--fill-color);\n",
              "    }\n",
              "    80% {\n",
              "      border-color: transparent;\n",
              "      border-right-color: var(--fill-color);\n",
              "      border-bottom-color: var(--fill-color);\n",
              "    }\n",
              "    90% {\n",
              "      border-color: transparent;\n",
              "      border-bottom-color: var(--fill-color);\n",
              "    }\n",
              "  }\n",
              "</style>\n",
              "\n",
              "  <script>\n",
              "    async function quickchart(key) {\n",
              "      const quickchartButtonEl =\n",
              "        document.querySelector('#' + key + ' button');\n",
              "      quickchartButtonEl.disabled = true;  // To prevent multiple clicks.\n",
              "      quickchartButtonEl.classList.add('colab-df-spinner');\n",
              "      try {\n",
              "        const charts = await google.colab.kernel.invokeFunction(\n",
              "            'suggestCharts', [key], {});\n",
              "      } catch (error) {\n",
              "        console.error('Error during call to suggestCharts:', error);\n",
              "      }\n",
              "      quickchartButtonEl.classList.remove('colab-df-spinner');\n",
              "      quickchartButtonEl.classList.add('colab-df-quickchart-complete');\n",
              "    }\n",
              "    (() => {\n",
              "      let quickchartButtonEl =\n",
              "        document.querySelector('#df-66b51b85-9e9a-4340-bfbe-a4e21197b83e button');\n",
              "      quickchartButtonEl.style.display =\n",
              "        google.colab.kernel.accessAllowed ? 'block' : 'none';\n",
              "    })();\n",
              "  </script>\n",
              "</div>\n",
              "    </div>\n",
              "  </div>\n"
            ]
          },
          "metadata": {},
          "execution_count": 3
        }
      ]
    },
    {
      "cell_type": "code",
      "source": [
        "data['Senti'].value_counts().plot(kind='bar')"
      ],
      "metadata": {
        "colab": {
          "base_uri": "https://localhost:8080/",
          "height": 443
        },
        "id": "-v7M_12nQBnD",
        "outputId": "3b75d3cb-8ac6-4f18-9a2a-acfbf47be8fb"
      },
      "execution_count": 4,
      "outputs": [
        {
          "output_type": "execute_result",
          "data": {
            "text/plain": [
              "<Axes: >"
            ]
          },
          "metadata": {},
          "execution_count": 4
        },
        {
          "output_type": "display_data",
          "data": {
            "text/plain": [
              "<Figure size 640x480 with 1 Axes>"
            ],
            "image/png": "[encoded data removed]"
          },
          "metadata": {}
        }
      ]
    },
    {
      "cell_type": "code",
      "source": [
        "X_data = data['Sentences']\n",
        "y_data = data['Senti']\n",
        "\n",
        "X_train, X_test, y_train, y_test = train_test_split(X_data, y_data, test_size=0.2, random_state=0, stratify=y_data)"
      ],
      "metadata": {
        "id": "hBdLeqTYQV8C"
      },
      "execution_count": 5,
      "outputs": []
    },
    {
      "cell_type": "code",
      "source": [
        "tokenizer = Tokenizer()\n",
        "tokenizer.fit_on_texts(X_train)\n",
        "X_train_encoded = tokenizer.texts_to_sequences(X_train)\n",
        "X_test_encoded = tokenizer.texts_to_sequences(X_test)\n",
        "print(X_train_encoded[:5])\n",
        "print(X_test_encoded[:5])\n",
        ""
      ],
      "metadata": {
        "colab": {
          "base_uri": "https://localhost:8080/"
        },
        "id": "J43ipvbyQC5W",
        "outputId": "30625b12-9a3f-4908-af2b-c22eee93be07"
      },
      "execution_count": 6,
      "outputs": [
        {
          "output_type": "stream",
          "name": "stdout",
          "text": [
            "[[326, 186, 628, 71, 55, 150, 152, 595, 25, 129, 1, 4, 1764, 89, 8, 98, 365, 4, 1216, 52, 12, 137, 1027, 1491], [2337, 263, 488, 3, 5694, 42, 355, 1004, 3, 1, 155, 5695, 2185, 1851, 16, 247, 5696, 4809, 687, 188, 1256, 3, 4810, 831, 1948, 1, 36, 190, 7062, 18, 9, 3421, 2866, 566, 483, 3758, 3131], [14, 39, 1492, 1684, 2186, 35, 23, 7063, 4, 6, 28, 2, 154, 1, 4, 414, 114, 5, 126, 9784, 4, 2, 51, 95, 228, 224, 177, 634, 186, 448, 69, 51, 150, 152, 138, 120, 123, 1, 4, 414, 114, 5, 126, 157, 147, 4210, 134, 10, 22, 222], [9785, 572, 4811, 6, 41, 6, 52, 2867, 370, 439, 50, 74, 1, 7, 134, 7064, 429, 31, 99, 1493, 196, 139, 7065, 71, 28, 1852], [5697, 13, 3, 3422, 2187, 3, 170, 190, 1116, 1, 356, 1217, 250, 29, 4211, 9786, 948, 4212, 287]]\n",
            "[[18, 2093, 267, 1202, 13, 3, 2369, 3323, 8485, 1, 268, 16, 53, 66, 26, 16, 168, 26, 16169, 17, 15, 296, 54, 56, 39, 31, 17, 47, 11, 35, 37, 180, 14, 1, 4, 1615, 28, 68, 68, 11, 15, 165, 8, 50, 64, 70, 17, 194], [6, 445, 484, 10, 146, 126, 111, 2, 47, 8, 28, 48, 44, 17, 1, 7, 953, 88, 5, 112, 43, 15, 288, 195, 664, 69, 113, 33, 14, 1766, 22, 139, 67, 89, 22, 6, 161, 41, 107, 94, 2, 81, 51, 5, 1, 7, 953, 88, 5, 112, 43, 15, 91, 135, 2, 300, 23, 86, 11], [604, 841, 196, 560, 468, 60, 22, 16092, 427, 1140, 22, 28, 1, 370, 3632, 931, 62, 2, 54, 1598, 101, 159, 2163, 74, 28, 1296, 893], [7, 16, 911, 62, 62, 653, 3, 305, 862, 1067, 9, 3, 1, 1488, 3, 305, 862, 1067, 1556, 9, 9, 3097, 1744], [5670, 36, 4923, 9358, 2132, 13, 491, 1, 357, 184, 319, 209, 34, 721, 252, 446, 1205, 7735, 849, 318, 778, 3, 1914, 78, 174, 1, 142, 4022, 42, 11182, 118, 185, 5, 246, 225, 5534, 216, 2647, 16, 1781, 1021, 13, 2010, 1, 357, 34, 721, 5]]\n"
          ]
        }
      ]
    },
    {
      "cell_type": "code",
      "source": [
        "word_to_index = tokenizer.word_index\n",
        "vocab_size = len(word_to_index) + 1\n",
        "print(vocab_size)"
      ],
      "metadata": {
        "colab": {
          "base_uri": "https://localhost:8080/"
        },
        "id": "63g2ew0UQeGj",
        "outputId": "e2a07c6b-0c6a-4a0a-86d2-444f2e55ff72"
      },
      "execution_count": 7,
      "outputs": [
        {
          "output_type": "stream",
          "name": "stdout",
          "text": [
            "19251\n"
          ]
        }
      ]
    },
    {
      "cell_type": "code",
      "source": [
        "print('본문의 최대 길이 :',max(len(sent) for sent in X_train))\n",
        "print('본문의 평균 길이 :',sum(map(len, X_train))/len(X_train))\n",
        "plt.hist([len(sent) for sent in X_train], bins=50)\n",
        "plt.xlabel('length of samples')\n",
        "plt.ylabel('number of samples')\n",
        "plt.show()"
      ],
      "metadata": {
        "colab": {
          "base_uri": "https://localhost:8080/",
          "height": 485
        },
        "id": "2O-_Z3DbQeTa",
        "outputId": "de7f4885-3d75-40cb-ab25-7396083f4764"
      },
      "execution_count": 8,
      "outputs": [
        {
          "output_type": "stream",
          "name": "stdout",
          "text": [
            "본문의 최대 길이 : 345\n",
            "본문의 평균 길이 : 171.03845784059226\n"
          ]
        },
        {
          "output_type": "display_data",
          "data": {
            "text/plain": [
              "<Figure size 640x480 with 1 Axes>"
            ],
            "image/png": "[encoded data removed]"
          },
          "metadata": {}
        }
      ]
    },
    {
      "cell_type": "code",
      "source": [
        "max_len = 345"
      ],
      "metadata": {
        "id": "dC7RPoZqQgHN"
      },
      "execution_count": 9,
      "outputs": []
    },
    {
      "cell_type": "code",
      "source": [
        "X_train_encoded = pad_sequences(X_train_encoded, maxlen=max_len)\n",
        "X_test_encoded = pad_sequences(X_test_encoded, maxlen=max_len)"
      ],
      "metadata": {
        "id": "cfx3X27EQimV"
      },
      "execution_count": 10,
      "outputs": []
    },
    {
      "cell_type": "code",
      "source": [
        "X_train_encoded.shape"
      ],
      "metadata": {
        "colab": {
          "base_uri": "https://localhost:8080/"
        },
        "id": "GtBRy1mDQp-q",
        "outputId": "74cdc321-4a37-4601-a3ef-178ddef3bb0c"
      },
      "execution_count": 13,
      "outputs": [
        {
          "output_type": "execute_result",
          "data": {
            "text/plain": [
              "(10401, 345)"
            ]
          },
          "metadata": {},
          "execution_count": 13
        }
      ]
    },
    {
      "cell_type": "code",
      "source": [
        "X_test_encoded.shape"
      ],
      "metadata": {
        "colab": {
          "base_uri": "https://localhost:8080/"
        },
        "id": "dD2jXGWrQj6d",
        "outputId": "b25f8959-d53e-47f9-ad05-7887907db59a"
      },
      "execution_count": 14,
      "outputs": [
        {
          "output_type": "execute_result",
          "data": {
            "text/plain": [
              "(2601, 345)"
            ]
          },
          "metadata": {},
          "execution_count": 14
        }
      ]
    },
    {
      "cell_type": "code",
      "source": [
        "from tensorflow.keras.layers import Embedding, Dense, LSTM\n",
        "from tensorflow.keras.models import Sequential\n",
        "from tensorflow.keras.models import load_model\n",
        "from tensorflow.keras.utils import to_categorical\n",
        "from tensorflow.keras.callbacks import EarlyStopping, ModelCheckpoint"
      ],
      "metadata": {
        "id": "uEDRx1B8Qmwk"
      },
      "execution_count": 12,
      "outputs": []
    },
    {
      "cell_type": "code",
      "source": [
        "y_train = to_categorical(y_train)\n",
        "y_test = to_categorical(y_test)"
      ],
      "metadata": {
        "id": "sJREKqu0Qtkn"
      },
      "execution_count": 15,
      "outputs": []
    },
    {
      "cell_type": "code",
      "source": [
        "embedding_dim = 64\n",
        "hidden_units = 64\n",
        "num_classes = 3\n",
        "\n",
        "model = Sequential()\n",
        "model.add(Embedding(vocab_size, embedding_dim))\n",
        "model.add(LSTM(hidden_units))\n",
        "model.add(Dense(num_classes, activation='softmax'))\n",
        "\n",
        "es = EarlyStopping(monitor='val_loss', mode='min', verbose=1, patience=4) # 0.9227 val_loss 감소하지 않으면 중단\n",
        "mc = ModelCheckpoint('best_model.h5', monitor='val_acc', mode='max', verbose=1, save_best_only=True)\n",
        "\n",
        "model.compile(loss='categorical_crossentropy', optimizer='adam', metrics=['acc'])\n",
        "history = model.fit(X_train_encoded, y_train, epochs=15, callbacks=[es, mc], batch_size=32, validation_split=0.2)\n",
        ""
      ],
      "metadata": {
        "colab": {
          "base_uri": "https://localhost:8080/"
        },
        "id": "tXbfKn7_QuFk",
        "outputId": "bee3aaa5-3802-4c0e-e6fb-f4cc570ef790"
      },
      "execution_count": 27,
      "outputs": [
        {
          "output_type": "stream",
          "name": "stdout",
          "text": [
            "Epoch 1/15\n",
            "260/260 [==============================] - ETA: 0s - loss: 0.4587 - acc: 0.8519\n",
            "Epoch 1: val_acc improved from -inf to 0.87218, saving model to best_model.h5\n",
            "260/260 [==============================] - 78s 294ms/step - loss: 0.4587 - acc: 0.8519 - val_loss: 0.3687 - val_acc: 0.8722\n",
            "Epoch 2/15\n"
          ]
        },
        {
          "output_type": "stream",
          "name": "stderr",
          "text": [
            "/usr/local/lib/python3.10/dist-packages/keras/src/engine/training.py:3079: UserWarning: You are saving your model as an HDF5 file via `model.save()`. This file format is considered legacy. We recommend using instead the native Keras format, e.g. `model.save('my_model.keras')`.\n",
            "  saving_api.save_model(\n"
          ]
        },
        {
          "output_type": "stream",
          "name": "stdout",
          "text": [
            "260/260 [==============================] - ETA: 0s - loss: 0.2505 - acc: 0.9192\n",
            "Epoch 2: val_acc improved from 0.87218 to 0.90678, saving model to best_model.h5\n",
            "260/260 [==============================] - 67s 260ms/step - loss: 0.2505 - acc: 0.9192 - val_loss: 0.3012 - val_acc: 0.9068\n",
            "Epoch 3/15\n",
            "260/260 [==============================] - ETA: 0s - loss: 0.1213 - acc: 0.9602\n",
            "Epoch 3: val_acc improved from 0.90678 to 0.92456, saving model to best_model.h5\n",
            "260/260 [==============================] - 72s 276ms/step - loss: 0.1213 - acc: 0.9602 - val_loss: 0.2947 - val_acc: 0.9246\n",
            "Epoch 4/15\n",
            "260/260 [==============================] - ETA: 0s - loss: 0.0559 - acc: 0.9829\n",
            "Epoch 4: val_acc did not improve from 0.92456\n",
            "260/260 [==============================] - 62s 237ms/step - loss: 0.0559 - acc: 0.9829 - val_loss: 0.3107 - val_acc: 0.9231\n",
            "Epoch 5/15\n",
            "260/260 [==============================] - ETA: 0s - loss: 0.0341 - acc: 0.9905\n",
            "Epoch 5: val_acc improved from 0.92456 to 0.92504, saving model to best_model.h5\n",
            "260/260 [==============================] - 62s 238ms/step - loss: 0.0341 - acc: 0.9905 - val_loss: 0.3706 - val_acc: 0.9250\n",
            "Epoch 6/15\n",
            "260/260 [==============================] - ETA: 0s - loss: 0.0224 - acc: 0.9934\n",
            "Epoch 6: val_acc improved from 0.92504 to 0.93128, saving model to best_model.h5\n",
            "260/260 [==============================] - 65s 250ms/step - loss: 0.0224 - acc: 0.9934 - val_loss: 0.3683 - val_acc: 0.9313\n",
            "Epoch 7/15\n",
            "260/260 [==============================] - ETA: 0s - loss: 0.0154 - acc: 0.9965\n",
            "Epoch 7: val_acc did not improve from 0.93128\n",
            "260/260 [==============================] - 59s 229ms/step - loss: 0.0154 - acc: 0.9965 - val_loss: 0.3512 - val_acc: 0.9169\n",
            "Epoch 7: early stopping\n"
          ]
        }
      ]
    },
    {
      "cell_type": "code",
      "source": [
        "loaded_model = load_model('best_model.h5')\n",
        "print(\"\\n 테스트 정확도: %.4f\" % (loaded_model.evaluate(X_test_encoded, y_test)[1]))"
      ],
      "metadata": {
        "colab": {
          "base_uri": "https://localhost:8080/"
        },
        "id": "cdUMH1X0Qvpv",
        "outputId": "a791d6f1-6091-4ec8-d69e-afab322d0d9d"
      },
      "execution_count": 28,
      "outputs": [
        {
          "output_type": "stream",
          "name": "stdout",
          "text": [
            "82/82 [==============================] - 6s 68ms/step - loss: 0.3832 - acc: 0.9227\n",
            "\n",
            " 테스트 정확도: 0.9227\n"
          ]
        }
      ]
    },
    {
      "cell_type": "markdown",
      "source": [
        "해당 모델로 예측 (transaction_ratio)"
      ],
      "metadata": {
        "id": "VK0aANT618c5"
      }
    },
    {
      "cell_type": "code",
      "source": [
        "\n",
        "x_pred =\n",
        "y_pred = loaded_model.predict()"
      ],
      "metadata": {
        "colab": {
          "base_uri": "https://localhost:8080/"
        },
        "id": "Oxsw95WXz04O",
        "outputId": "20de614f-ebce-428f-d793-fd5f378cab40"
      },
      "execution_count": 26,
      "outputs": [
        {
          "output_type": "execute_result",
          "data": {
            "text/plain": [
              "array([[1., 0., 0.],\n",
              "       [1., 0., 0.],\n",
              "       [1., 0., 0.],\n",
              "       ...,\n",
              "       [1., 0., 0.],\n",
              "       [0., 1., 0.],\n",
              "       [1., 0., 0.]], dtype=float32)"
            ]
          },
          "metadata": {},
          "execution_count": 26
        }
      ]
    },
    {
      "cell_type": "markdown",
      "source": [
        "주가 상승/ 유지/ 하락 데이터와 비교"
      ],
      "metadata": {
        "id": "JGOxQVCu1pg8"
      }
    },
    {
      "cell_type": "code",
      "source": [],
      "metadata": {
        "id": "_BgO2Fxyz15u"
      },
      "execution_count": null,
      "outputs": []
    }
  ]
}